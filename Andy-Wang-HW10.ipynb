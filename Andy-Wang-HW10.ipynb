{
 "cells": [
  {
   "cell_type": "code",
   "execution_count": 2,
   "metadata": {},
   "outputs": [],
   "source": [
    "myJekyllDir = \"C:/Users/Andy/github.io/assets/json\""
   ]
  },
  {
   "attachments": {},
   "cell_type": "markdown",
   "metadata": {},
   "source": [
    "Reference：\n",
    "\n",
    "\n",
    "Homework 9 code. I use similar graph to homework 9.\"I created a scatter plot visualization using Vega-Lite to display the relationship between the year a building was acquired and its square footage. The primary feature I wanted to highlight with this visualization was the trends between these two variables.\"\n",
    "\n",
    "\n",
    "\n",
    "Design:\n",
    "\n",
    "\n",
    "\n",
    "x: This is encoding the Year Acquired variable as a time-based axis, using the timeUnit parameter set to 'year', which tells Altair to aggregate the data by year. The data is also being cast to a temporal data type using the :T shorthand.\n",
    "y: This is encoding the Square Footage variable as a quantitative axis, represented as a continuous axis (Q).\n",
    "\n",
    "\n",
    "\n",
    "color: This is encoding a constant value (alt.value('red')) as the color of the points. I chose red because I think red is more attention-grabbing.\n",
    "\n",
    "Difference bewteen this graph and homework 9: The 'opacity' encoding is added to the chart in the given code using the 'alt.condition' function. This sets the opacity of the selected points to 1 and the opacity of unselected points to 0.2.\n",
    "\n",
    "\n",
    "Interactivity:\n",
    "\n",
    "The graph includes the brush selection tool. This allows the user to select a range of data points by clicking and dragging their mouse over the chart. By selecting a range of points, the user can zoom in on a particular time period or range of square footage values, allowing them to identify trends and outliers that may be hidden in the dataset. This will make the plot clear to see.\n",
    "\n",
    "\n",
    "\n",
    "Transformation:\n",
    "\n",
    "\n",
    "\n",
    "The data aggregation is performed by Altair to group the Year Acquired variable by year."
   ]
  },
  {
   "cell_type": "code",
   "execution_count": 3,
   "metadata": {},
   "outputs": [
    {
     "data": {
      "text/html": [
       "\n",
       "<div id=\"altair-viz-a91693888e63404baf8e14905d0ec9ff\"></div>\n",
       "<script type=\"text/javascript\">\n",
       "  var VEGA_DEBUG = (typeof VEGA_DEBUG == \"undefined\") ? {} : VEGA_DEBUG;\n",
       "  (function(spec, embedOpt){\n",
       "    let outputDiv = document.currentScript.previousElementSibling;\n",
       "    if (outputDiv.id !== \"altair-viz-a91693888e63404baf8e14905d0ec9ff\") {\n",
       "      outputDiv = document.getElementById(\"altair-viz-a91693888e63404baf8e14905d0ec9ff\");\n",
       "    }\n",
       "    const paths = {\n",
       "      \"vega\": \"https://cdn.jsdelivr.net/npm//vega@5?noext\",\n",
       "      \"vega-lib\": \"https://cdn.jsdelivr.net/npm//vega-lib?noext\",\n",
       "      \"vega-lite\": \"https://cdn.jsdelivr.net/npm//vega-lite@4.17.0?noext\",\n",
       "      \"vega-embed\": \"https://cdn.jsdelivr.net/npm//vega-embed@6?noext\",\n",
       "    };\n",
       "\n",
       "    function maybeLoadScript(lib, version) {\n",
       "      var key = `${lib.replace(\"-\", \"\")}_version`;\n",
       "      return (VEGA_DEBUG[key] == version) ?\n",
       "        Promise.resolve(paths[lib]) :\n",
       "        new Promise(function(resolve, reject) {\n",
       "          var s = document.createElement('script');\n",
       "          document.getElementsByTagName(\"head\")[0].appendChild(s);\n",
       "          s.async = true;\n",
       "          s.onload = () => {\n",
       "            VEGA_DEBUG[key] = version;\n",
       "            return resolve(paths[lib]);\n",
       "          };\n",
       "          s.onerror = () => reject(`Error loading script: ${paths[lib]}`);\n",
       "          s.src = paths[lib];\n",
       "        });\n",
       "    }\n",
       "\n",
       "    function showError(err) {\n",
       "      outputDiv.innerHTML = `<div class=\"error\" style=\"color:red;\">${err}</div>`;\n",
       "      throw err;\n",
       "    }\n",
       "\n",
       "    function displayChart(vegaEmbed) {\n",
       "      vegaEmbed(outputDiv, spec, embedOpt)\n",
       "        .catch(err => showError(`Javascript Error: ${err.message}<br>This usually means there's a typo in your chart specification. See the javascript console for the full traceback.`));\n",
       "    }\n",
       "\n",
       "    if(typeof define === \"function\" && define.amd) {\n",
       "      requirejs.config({paths});\n",
       "      require([\"vega-embed\"], displayChart, err => showError(`Error loading script: ${err.message}`));\n",
       "    } else {\n",
       "      maybeLoadScript(\"vega\", \"5\")\n",
       "        .then(() => maybeLoadScript(\"vega-lite\", \"4.17.0\"))\n",
       "        .then(() => maybeLoadScript(\"vega-embed\", \"6\"))\n",
       "        .catch(showError)\n",
       "        .then(() => displayChart(vegaEmbed));\n",
       "    }\n",
       "  })({\"config\": {\"view\": {\"continuousWidth\": 400, \"continuousHeight\": 300}}, \"data\": {\"url\": \"https://raw.githubusercontent.com/UIUC-iSchool-DataViz/is445_bcubcg_fall2022/main/data/building_inventory.csv\"}, \"mark\": {\"type\": \"point\", \"tooltip\": true}, \"encoding\": {\"color\": {\"value\": \"red\"}, \"opacity\": {\"condition\": {\"value\": 1, \"selection\": \"selector001\"}, \"value\": 0.2}, \"x\": {\"field\": \"Year Acquired\", \"timeUnit\": \"year\", \"type\": \"temporal\"}, \"y\": {\"field\": \"Square Footage\", \"type\": \"quantitative\"}}, \"height\": 300, \"selection\": {\"selector001\": {\"type\": \"interval\"}}, \"width\": 600, \"$schema\": \"https://vega.github.io/schema/vega-lite/v4.17.0.json\"}, {\"mode\": \"vega-lite\"});\n",
       "</script>"
      ],
      "text/plain": [
       "alt.Chart(...)"
      ]
     },
     "execution_count": 3,
     "metadata": {},
     "output_type": "execute_result"
    }
   ],
   "source": [
    "import altair as alt\n",
    "url = 'https://raw.githubusercontent.com/UIUC-iSchool-DataViz/is445_bcubcg_fall2022/main/data/building_inventory.csv'\n",
    "brush = alt.selection_interval()\n",
    "building_plot = alt.Chart(url).mark_point(tooltip=True).encode(\n",
    "    x=alt.X('Year Acquired:T', timeUnit='year'),\n",
    "    y='Square Footage:Q',\n",
    "    color=alt.value('red')\n",
    ").add_selection(\n",
    "    brush\n",
    ").properties(\n",
    "    width=600,\n",
    "    height=300\n",
    ")\n",
    "chart1 = building_plot.encode(\n",
    "    opacity=alt.condition(brush, alt.value(1), alt.value(0.2))\n",
    ")\n",
    "chart1"
   ]
  },
  {
   "cell_type": "code",
   "execution_count": 4,
   "metadata": {},
   "outputs": [],
   "source": [
    "chart1.save(myJekyllDir + 'chart1.json')"
   ]
  },
  {
   "attachments": {},
   "cell_type": "markdown",
   "metadata": {},
   "source": [
    "Desciption:\n",
    "\n",
    "The chart is displaying the total square footage of buildings in each congressional district where the square footage is greater than 200,000. The x-axis is showing the congressional district and the y-axis is showing the total square footage.\n",
    "\n",
    "\n",
    "Design：\n",
    "\n",
    "\n",
    "The x-axis is using an ordinal scale to display the congressional district values, and the y-axis is using a quantitative scale to display the total square footage. The tooltip is encoding both congressional district and total square footage values as ordinal and quantitative scales respectively.\n",
    "\n",
    "\n",
    "\n",
    "Data transformation：\n",
    "\n",
    "I filter the data to only show buildings with a square footage greater than 200,000. This is being accomplished using the transform_filter() function, which is filtering the data based on the value of the 'Square Footage' column."
   ]
  },
  {
   "cell_type": "code",
   "execution_count": 6,
   "metadata": {},
   "outputs": [
    {
     "data": {
      "text/html": [
       "\n",
       "<div id=\"altair-viz-b5c4b69a88544566ab555bd0ef1d9a4c\"></div>\n",
       "<script type=\"text/javascript\">\n",
       "  var VEGA_DEBUG = (typeof VEGA_DEBUG == \"undefined\") ? {} : VEGA_DEBUG;\n",
       "  (function(spec, embedOpt){\n",
       "    let outputDiv = document.currentScript.previousElementSibling;\n",
       "    if (outputDiv.id !== \"altair-viz-b5c4b69a88544566ab555bd0ef1d9a4c\") {\n",
       "      outputDiv = document.getElementById(\"altair-viz-b5c4b69a88544566ab555bd0ef1d9a4c\");\n",
       "    }\n",
       "    const paths = {\n",
       "      \"vega\": \"https://cdn.jsdelivr.net/npm//vega@5?noext\",\n",
       "      \"vega-lib\": \"https://cdn.jsdelivr.net/npm//vega-lib?noext\",\n",
       "      \"vega-lite\": \"https://cdn.jsdelivr.net/npm//vega-lite@4.17.0?noext\",\n",
       "      \"vega-embed\": \"https://cdn.jsdelivr.net/npm//vega-embed@6?noext\",\n",
       "    };\n",
       "\n",
       "    function maybeLoadScript(lib, version) {\n",
       "      var key = `${lib.replace(\"-\", \"\")}_version`;\n",
       "      return (VEGA_DEBUG[key] == version) ?\n",
       "        Promise.resolve(paths[lib]) :\n",
       "        new Promise(function(resolve, reject) {\n",
       "          var s = document.createElement('script');\n",
       "          document.getElementsByTagName(\"head\")[0].appendChild(s);\n",
       "          s.async = true;\n",
       "          s.onload = () => {\n",
       "            VEGA_DEBUG[key] = version;\n",
       "            return resolve(paths[lib]);\n",
       "          };\n",
       "          s.onerror = () => reject(`Error loading script: ${paths[lib]}`);\n",
       "          s.src = paths[lib];\n",
       "        });\n",
       "    }\n",
       "\n",
       "    function showError(err) {\n",
       "      outputDiv.innerHTML = `<div class=\"error\" style=\"color:red;\">${err}</div>`;\n",
       "      throw err;\n",
       "    }\n",
       "\n",
       "    function displayChart(vegaEmbed) {\n",
       "      vegaEmbed(outputDiv, spec, embedOpt)\n",
       "        .catch(err => showError(`Javascript Error: ${err.message}<br>This usually means there's a typo in your chart specification. See the javascript console for the full traceback.`));\n",
       "    }\n",
       "\n",
       "    if(typeof define === \"function\" && define.amd) {\n",
       "      requirejs.config({paths});\n",
       "      require([\"vega-embed\"], displayChart, err => showError(`Error loading script: ${err.message}`));\n",
       "    } else {\n",
       "      maybeLoadScript(\"vega\", \"5\")\n",
       "        .then(() => maybeLoadScript(\"vega-lite\", \"4.17.0\"))\n",
       "        .then(() => maybeLoadScript(\"vega-embed\", \"6\"))\n",
       "        .catch(showError)\n",
       "        .then(() => displayChart(vegaEmbed));\n",
       "    }\n",
       "  })({\"config\": {\"view\": {\"continuousWidth\": 400, \"continuousHeight\": 300}}, \"data\": {\"url\": \"https://raw.githubusercontent.com/UIUC-iSchool-DataViz/is445_bcubcg_fall2022/main/data/building_inventory.csv\"}, \"mark\": \"bar\", \"encoding\": {\"tooltip\": [{\"field\": \"Congress Dist\", \"type\": \"ordinal\"}, {\"field\": \"Square Footage\", \"type\": \"quantitative\"}], \"x\": {\"field\": \"Congress Dist\", \"title\": \"Congressional District\", \"type\": \"ordinal\"}, \"y\": {\"field\": \"Square Footage\", \"title\": \"Total Square Footage\", \"type\": \"quantitative\"}}, \"height\": 300, \"transform\": [{\"filter\": \"(datum['Square Footage'] > 200000)\"}], \"width\": 600, \"$schema\": \"https://vega.github.io/schema/vega-lite/v4.17.0.json\"}, {\"mode\": \"vega-lite\"});\n",
       "</script>"
      ],
      "text/plain": [
       "alt.Chart(...)"
      ]
     },
     "execution_count": 6,
     "metadata": {},
     "output_type": "execute_result"
    }
   ],
   "source": [
    "building_data = alt.Data(url=url)\n",
    "chart2 = alt.Chart(building_data).transform_filter(\n",
    "    alt.datum['Square Footage'] > 200000  \n",
    ").mark_bar().encode(\n",
    "    x=alt.X('Congress Dist:O', title='Congressional District'),\n",
    "    y=alt.Y('Square Footage:Q', title='Total Square Footage'),\n",
    "    tooltip=['Congress Dist:O', 'Square Footage:Q']\n",
    ").properties(\n",
    "    width=600,\n",
    "    height=300\n",
    ")\n",
    "chart2\n"
   ]
  },
  {
   "cell_type": "code",
   "execution_count": 7,
   "metadata": {},
   "outputs": [],
   "source": [
    "chart2.save(myJekyllDir + 'chart2.json')"
   ]
  }
 ],
 "metadata": {
  "kernelspec": {
   "display_name": "Python 3",
   "language": "python",
   "name": "python3"
  },
  "language_info": {
   "codemirror_mode": {
    "name": "ipython",
    "version": 3
   },
   "file_extension": ".py",
   "mimetype": "text/x-python",
   "name": "python",
   "nbconvert_exporter": "python",
   "pygments_lexer": "ipython3",
   "version": "3.10.0"
  },
  "orig_nbformat": 4,
  "vscode": {
   "interpreter": {
    "hash": "1bcfb1cd294c7ede0fddcccd093ec3411d50f7e388b6943ea2971bf9805113e9"
   }
  }
 },
 "nbformat": 4,
 "nbformat_minor": 2
}
